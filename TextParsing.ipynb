{
 "cells": [
  {
   "cell_type": "code",
   "execution_count": 22,
   "metadata": {},
   "outputs": [],
   "source": [
    "import re\n",
    "import json\n",
    "import zipfile \n",
    "import nltk"
   ]
  },
  {
   "cell_type": "code",
   "execution_count": 23,
   "metadata": {},
   "outputs": [
    {
     "name": "stderr",
     "output_type": "stream",
     "text": [
      "[nltk_data] Downloading package punkt to\n",
      "[nltk_data]     C:\\Users\\Jeremy\\AppData\\Roaming\\nltk_data...\n",
      "[nltk_data]   Package punkt is already up-to-date!\n"
     ]
    },
    {
     "data": {
      "text/plain": [
       "True"
      ]
     },
     "execution_count": 23,
     "metadata": {},
     "output_type": "execute_result"
    }
   ],
   "source": [
    "# Download punkt plugin for NLTK\n",
    "nltk.download('punkt')"
   ]
  },
  {
   "cell_type": "code",
   "execution_count": 24,
   "metadata": {},
   "outputs": [],
   "source": [
    "# Open source text data - saved as 'sherlock.txt'\n",
    "# Use NLTK to put it into a list of sentences\n",
    "with open(\"sherlock.txt\", \"r\", encoding=\"utf8\") as trainingfile:\n",
    "    trainingdata = trainingfile.read()\n",
    "    sentences = nltk.sent_tokenize(trainingdata)"
   ]
  },
  {
   "cell_type": "code",
   "execution_count": 25,
   "metadata": {},
   "outputs": [],
   "source": [
    "# Perform a regex on all sentences to pull out 'useful' sentences which are up to 140 characters in length \n",
    "# then strip out all non-alphanumeric characters\n",
    "shortSentences = []\n",
    "cleanSentences = []\n",
    "\n",
    "# match the start of a sentence ('\\A') and only alphanumeric symbols '\\w' then continue until end\n",
    "for text in sentences:\n",
    "    shortSentences += re.findall('\\A\\w.+$', text[0:141])\n",
    "\n",
    "# remove all non alphanumeric characters that may appear\n",
    "stripChar = '\\\"\\'\\.\\?\\,\\!-()'\n",
    "for s in shortSentences:\n",
    "    cleanSentences.append(s.translate(str.maketrans(\"\", \"\", stripChar)))"
   ]
  },
  {
   "cell_type": "code",
   "execution_count": 26,
   "metadata": {},
   "outputs": [],
   "source": [
    "# Create a list containing only sentences which are greater than 5 words in length\n",
    "slotEntries = []\n",
    "nWords = 5\n",
    "for e in cleanSentences:\n",
    "    if (len(e.split()) > nWords):\n",
    "        slotEntries.append(e)"
   ]
  },
  {
   "cell_type": "code",
   "execution_count": 27,
   "metadata": {},
   "outputs": [],
   "source": [
    "# Create the zipped json file to import into Lex as the slot training data\n",
    "lexSlotTextFile = 'trainingText.json'\n",
    "lexSlotZipFile = 'trainingText.zip'\n",
    "data = {\n",
    "  \"metadata\": {\n",
    "    \"schemaVersion\": \"1.0\",\n",
    "    \"importType\": \"LEX\",\n",
    "    \"importFormat\": \"JSON\"\n",
    "  },\n",
    "  \"resource\": {\n",
    "    \"description\": \"Training text input for custom free flow slot\",\n",
    "    \"name\": \"trainingText\",\n",
    "    \"version\": \"1\",\n",
    "    \"enumerationValues\": [],\n",
    "    \"valueSelectionStrategy\": \"ORIGINAL_VALUE\"\n",
    "  }\n",
    "}"
   ]
  },
  {
   "cell_type": "code",
   "execution_count": 28,
   "metadata": {},
   "outputs": [],
   "source": [
    "# populate json with slot values\n",
    "for slot in slotEntries:\n",
    "    data[\"resource\"][\"enumerationValues\"].append({\"value\": slot})"
   ]
  },
  {
   "cell_type": "code",
   "execution_count": 29,
   "metadata": {},
   "outputs": [],
   "source": [
    "# write the json file with the data\n",
    "with open (lexSlotTextFile, 'w') as f:\n",
    "    json.dump(data, f)\n",
    "f.close()"
   ]
  },
  {
   "cell_type": "code",
   "execution_count": 30,
   "metadata": {},
   "outputs": [
    {
     "name": "stdout",
     "output_type": "stream",
     "text": [
      "Created json zip file for Lex Slot Import as trainingText.zip\n"
     ]
    }
   ],
   "source": [
    "# zip up file ready for import to Lex\n",
    "with zipfile.ZipFile(lexSlotZipFile, 'w') as myzip:\n",
    "    myzip.write(lexSlotTextFile)\n",
    "myzip.close()\n",
    "\n",
    "print (\"Created json zip file for Lex Slot Import as\", lexSlotZipFile)"
   ]
  }
 ],
 "metadata": {
  "kernelspec": {
   "display_name": "Python 3",
   "language": "python",
   "name": "python3"
  },
  "language_info": {
   "codemirror_mode": {
    "name": "ipython",
    "version": 3
   },
   "file_extension": ".py",
   "mimetype": "text/x-python",
   "name": "python",
   "nbconvert_exporter": "python",
   "pygments_lexer": "ipython3",
   "version": "3.11.3"
  }
 },
 "nbformat": 4,
 "nbformat_minor": 2
}
